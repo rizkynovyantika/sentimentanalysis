{
 "cells": [
  {
   "cell_type": "code",
   "execution_count": 2,
   "metadata": {},
   "outputs": [],
   "source": [
    "import tweepy\n",
    "import csv\n",
    "import pandas as pd"
   ]
  },
  {
   "cell_type": "code",
   "execution_count": 3,
   "metadata": {},
   "outputs": [],
   "source": [
    "consumer_key = 'f4O4YC6tmiVySTwwOwggfCBnO'\n",
    "consumer_secret = 'Jsv7vrT5Ba49GEKLGTDx1wgk0T5kK9mbNa8ZbBR7tU4EXfm3QB'\n",
    "access_token = '3271788373-mdrcW5A1KZld5VCKaZsHJuSjnXwJr3f7S1wPsH4'\n",
    "access_token_secret = 'zxO3YcLpME07GunU3H7wFTeGTjDmd5bexQn2P53JXfaJP'"
   ]
  },
  {
   "cell_type": "code",
   "execution_count": 4,
   "metadata": {},
   "outputs": [],
   "source": [
    "auth = tweepy.OAuthHandler(consumer_key, consumer_secret)\n",
    "auth.set_access_token(access_token, access_token_secret)\n",
    "api = tweepy.API(auth,wait_on_rate_limit=True)"
   ]
  },
  {
   "cell_type": "code",
   "execution_count": 5,
   "metadata": {},
   "outputs": [],
   "source": [
    "csvFile = open('#pilkada.csv', 'a')\n",
    "csvWriter = csv.writer(csvFile)"
   ]
  },
  {
   "cell_type": "code",
   "execution_count": 6,
   "metadata": {},
   "outputs": [
    {
     "name": "stdout",
     "output_type": "stream",
     "text": [
      "(datetime.datetime(2018, 5, 2, 23, 32), u'RT @RahmayadiEdy: Cintailah keluarga anda dimulai dengan meluangkan waktu untuk berbagi cerita dan kasih sayang.\\n#Eramas #Pilgubsu #Pilkada\\u2026')\n",
      "(datetime.datetime(2018, 5, 2, 22, 56, 51), u'Yang kita lawan adalah berita hoax, berita yang nenyesatkan.\\n\\n#polresbungo\\n#hoax\\n#antihoax\\n#melawanhoax\\n#pilkada\\u2026 https://t.co/f8XFBSVV1s')\n",
      "(datetime.datetime(2018, 5, 2, 22, 42, 3), u'Orang cerdas pasti bijak bermedia.\\n\\n#polresbungo\\n#hoax\\n#antihoax\\n#melawanhoax\\n#pilkada\\n#pilkada2018 https://t.co/oIlePVTSZ5')\n",
      "(datetime.datetime(2018, 5, 2, 16, 41, 32), u'Stop!\\nKampanye Hitam\\nDi Sosial Media\\n\\n#PilkadaSerentak2018 \\n#PilkadaAman \\n#PilkadaDamai \\n#PilkadaBermartabat\\u2026 https://t.co/YZ8QCdTaWW')\n",
      "(datetime.datetime(2018, 5, 2, 16, 17, 27), u'RT @HaloKBR: Saat ini tahapan #Pilkada2018 memasuki masa kampanye dan debat publik. Potensi konflik, bisa saja muncul. Konflik semacam apa\\u2026')\n"
     ]
    }
   ],
   "source": [
    "for tweet in tweepy.Cursor(api.search,q=\"#pilkada2018\",count=50,\n",
    "                           lang=\"id\",\n",
    "                           since=\"2018-03-30\").items():\n",
    "    print (tweet.created_at, tweet.text)\n",
    "    csvWriter.writerow([tweet.created_at, tweet.text.encode('utf-8')])"
   ]
  },
  {
   "cell_type": "code",
   "execution_count": null,
   "metadata": {},
   "outputs": [],
   "source": []
  },
  {
   "cell_type": "code",
   "execution_count": null,
   "metadata": {},
   "outputs": [],
   "source": []
  },
  {
   "cell_type": "code",
   "execution_count": null,
   "metadata": {},
   "outputs": [],
   "source": []
  },
  {
   "cell_type": "code",
   "execution_count": null,
   "metadata": {},
   "outputs": [],
   "source": []
  },
  {
   "cell_type": "code",
   "execution_count": null,
   "metadata": {},
   "outputs": [],
   "source": []
  }
 ],
 "metadata": {
  "kernelspec": {
   "display_name": "Python 2",
   "language": "python",
   "name": "python2"
  },
  "language_info": {
   "codemirror_mode": {
    "name": "ipython",
    "version": 2
   },
   "file_extension": ".py",
   "mimetype": "text/x-python",
   "name": "python",
   "nbconvert_exporter": "python",
   "pygments_lexer": "ipython2",
   "version": "2.7.14"
  }
 },
 "nbformat": 4,
 "nbformat_minor": 2
}
